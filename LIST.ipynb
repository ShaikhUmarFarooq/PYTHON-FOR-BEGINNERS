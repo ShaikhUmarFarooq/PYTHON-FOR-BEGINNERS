{
 "cells": [
  {
   "cell_type": "markdown",
   "id": "99b1f9c0",
   "metadata": {},
   "source": [
    "## LIST "
   ]
  },
  {
   "cell_type": "markdown",
   "id": "b8c9cf59",
   "metadata": {},
   "source": [
    "list appending means adding value in list "
   ]
  },
  {
   "cell_type": "code",
   "execution_count": 4,
   "id": "e2a35a1d",
   "metadata": {},
   "outputs": [
    {
     "name": "stdout",
     "output_type": "stream",
     "text": [
      "[1, 4, 3, 5]\n"
     ]
    }
   ],
   "source": [
    "list=[1,4,3]\n",
    "list.append(5)\n",
    "print(list)"
   ]
  },
  {
   "cell_type": "markdown",
   "id": "0ff5291a",
   "metadata": {},
   "source": [
    "sorting list in assending order\n",
    "output=None "
   ]
  },
  {
   "cell_type": "code",
   "execution_count": 2,
   "id": "cae641f9",
   "metadata": {},
   "outputs": [],
   "source": [
    "list.sort()"
   ]
  },
  {
   "cell_type": "markdown",
   "id": "3b5cd8c8",
   "metadata": {},
   "source": [
    " but how to sort "
   ]
  },
  {
   "cell_type": "markdown",
   "id": "8224b2df",
   "metadata": {},
   "source": []
  },
  {
   "cell_type": "code",
   "execution_count": 5,
   "id": "d1c363c0",
   "metadata": {},
   "outputs": [
    {
     "name": "stdout",
     "output_type": "stream",
     "text": [
      "[1, 3, 4, 5]\n"
     ]
    }
   ],
   "source": [
    "list.sort()\n",
    "print(list)"
   ]
  },
  {
   "cell_type": "markdown",
   "id": "4e66d9af",
   "metadata": {},
   "source": [
    "sorting in dessending order"
   ]
  },
  {
   "cell_type": "markdown",
   "id": "b3aa5667",
   "metadata": {},
   "source": []
  },
  {
   "cell_type": "code",
   "execution_count": 8,
   "id": "27a06a39",
   "metadata": {},
   "outputs": [
    {
     "name": "stdout",
     "output_type": "stream",
     "text": [
      "[5, 4, 3, 1]\n"
     ]
    }
   ],
   "source": [
    "list.sort(reverse=True)\n",
    "print(list)"
   ]
  },
  {
   "cell_type": "markdown",
   "id": "7d5c02a8",
   "metadata": {},
   "source": [
    "we can sort list of alphabet and words also (string)"
   ]
  },
  {
   "cell_type": "code",
   "execution_count": 13,
   "id": "52e6de02",
   "metadata": {},
   "outputs": [
    {
     "name": "stdout",
     "output_type": "stream",
     "text": [
      "['apple', 'banana', 'mango']\n",
      "['mango', 'banana', 'apple']\n"
     ]
    }
   ],
   "source": [
    "list2=[\"banana\",\"mango\",\"apple\"]\n",
    "list2.sort()\n",
    "print(list2)\n",
    "# in dessending order\n",
    "list2.sort(reverse=True)\n",
    "print(list2)\n"
   ]
  },
  {
   "cell_type": "markdown",
   "id": "271b8f8b",
   "metadata": {},
   "source": [
    "we just can do reverse of list "
   ]
  },
  {
   "cell_type": "code",
   "execution_count": 20,
   "id": "3e414ca3",
   "metadata": {},
   "outputs": [
    {
     "name": "stdout",
     "output_type": "stream",
     "text": [
      "['3', '6', '4']\n"
     ]
    }
   ],
   "source": [
    "list3=[\"4\",\"6\",\"3\"]\n",
    "list3.reverse()\n",
    "print(list3)\n"
   ]
  },
  {
   "cell_type": "markdown",
   "id": "7b076143",
   "metadata": {},
   "source": [
    "we can insert value on any index in list (adding \"9\" at inde \"1\"\n",
    ")"
   ]
  },
  {
   "cell_type": "code",
   "execution_count": 22,
   "id": "7fb360a2",
   "metadata": {},
   "outputs": [
    {
     "name": "stdout",
     "output_type": "stream",
     "text": [
      "['3', 9, 9, '6', '4']\n"
     ]
    }
   ],
   "source": [
    "list3.insert(1,9)\n",
    "print(list3)"
   ]
  },
  {
   "cell_type": "markdown",
   "id": "b1bfe777",
   "metadata": {},
   "source": [
    "we can remove element using remove for perticular element and can remove element on an index we can use pop "
   ]
  },
  {
   "cell_type": "code",
   "execution_count": null,
   "id": "80555e0a",
   "metadata": {},
   "outputs": [
    {
     "name": "stdout",
     "output_type": "stream",
     "text": [
      "[1, 2, 3, 5, 6]\n",
      "[1, 2, 5, 6]\n"
     ]
    }
   ],
   "source": [
    "list4=[1,2,3,4,5,6,]\n",
    "list4.remove(4)\n",
    "print(list4)\n",
    "# 4 is removed\n",
    "list4.pop(2)\n",
    "print(list4)\n",
    "# 3 is poped bcz 3 was at index 2\n"
   ]
  }
 ],
 "metadata": {
  "kernelspec": {
   "display_name": "Python 3",
   "language": "python",
   "name": "python3"
  },
  "language_info": {
   "codemirror_mode": {
    "name": "ipython",
    "version": 3
   },
   "file_extension": ".py",
   "mimetype": "text/x-python",
   "name": "python",
   "nbconvert_exporter": "python",
   "pygments_lexer": "ipython3",
   "version": "3.12.7"
  }
 },
 "nbformat": 4,
 "nbformat_minor": 5
}
