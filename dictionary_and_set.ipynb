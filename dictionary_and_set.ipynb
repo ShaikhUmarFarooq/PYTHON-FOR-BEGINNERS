{
 "cells": [
  {
   "cell_type": "markdown",
   "id": "95d22e92",
   "metadata": {},
   "source": [
    "## DICTIONARY "
   ]
  },
  {
   "cell_type": "markdown",
   "id": "3fe8080c",
   "metadata": {},
   "source": [
    "making dictionary that have key and there value we jsut wnat to usse curly brackets for using dictionary\n"
   ]
  },
  {
   "cell_type": "code",
   "execution_count": 11,
   "id": "c055a92f",
   "metadata": {},
   "outputs": [
    {
     "name": "stdout",
     "output_type": "stream",
     "text": [
      "<class 'dict'>\n",
      "{'key': 'value', 'name': 'umar', 'age': 21, 'marks': [90, 99, 99]}\n",
      "umar\n",
      "21\n"
     ]
    }
   ],
   "source": [
    "dictionary ={\n",
    "    \"key\": \"value\",\n",
    "    \"name\" : \"umar\",\n",
    "    \"age\" :     19 ,\n",
    "    \"marks\": [ 90,99,99]\n",
    "    \n",
    "    }\n",
    "dictionary[\"age\"]=21\n",
    "print(type(dictionary))\n",
    "print(dictionary)\n",
    "print(dictionary[\"name\"])\n",
    "print(dictionary[\"age\"])"
   ]
  },
  {
   "cell_type": "markdown",
   "id": "2a5a4c7e",
   "metadata": {},
   "source": [
    "making nested dictionary means dictionary in dictionary "
   ]
  },
  {
   "cell_type": "code",
   "execution_count": 23,
   "id": "3bbc794f",
   "metadata": {},
   "outputs": [
    {
     "name": "stdout",
     "output_type": "stream",
     "text": [
      "91\n"
     ]
    }
   ],
   "source": [
    "student = { \n",
    "    \"name\":\"umar\",\n",
    "    \"subjects\" :{\n",
    "        \"math\" :91,\n",
    "        \"scince\":92 ,\n",
    "        \"eng\": 90\n",
    "            }\n",
    "}\n",
    "print(student [\"subjects\"][\"math\"])"
   ]
  },
  {
   "cell_type": "markdown",
   "id": "8c5eaa98",
   "metadata": {},
   "source": [
    "Dictionary methods "
   ]
  },
  {
   "cell_type": "code",
   "execution_count": null,
   "id": "cbd9538a",
   "metadata": {},
   "outputs": [
    {
     "name": "stdout",
     "output_type": "stream",
     "text": [
      "dict_keys(['name', 'subjects', 'city'])\n",
      "3\n",
      "dict_values(['umar', {'math': 91, 'scince': 92, 'eng': 90}, 'nanded'])\n",
      "dict_items([('name', 'umar'), ('subjects', {'math': 91, 'scince': 92, 'eng': 90}), ('city', 'nanded')])\n",
      "umar\n",
      "None\n",
      "{'name': 'umar', 'subjects': {'math': 91, 'scince': 92, 'eng': 90}, 'city': 'nanded'}\n"
     ]
    }
   ],
   "source": [
    "# all keys will pe peinted\n",
    "print(student.keys()) \n",
    "\n",
    "# to count how many keys \n",
    "print(len(student))\n",
    "\n",
    "# printing all values\n",
    "print(student.values())\n",
    "\n",
    "# printing all pairs\n",
    "print(student.items())\n",
    "\n",
    "# getting key avlue \n",
    "print(student.get(\"name\"))\n",
    "print(student.get(\"name2\"))# no error if  name 2 deont exist \n",
    "\n",
    "# updating and asding value \n",
    "student.update({\"city\"  :\"nanded\"})\n",
    "print(student)\n"
   ]
  },
  {
   "cell_type": "markdown",
   "id": "8a23b699",
   "metadata": {},
   "source": [
    "## SETS "
   ]
  },
  {
   "cell_type": "markdown",
   "id": "c71f3601",
   "metadata": {},
   "source": [
    "sets is collection of unordered items\n",
    "each element in the set must be unique and immutable / but set is mutable \n",
    "we cant store list and dictionary in sets"
   ]
  },
  {
   "cell_type": "code",
   "execution_count": 47,
   "id": "4b11fd65",
   "metadata": {},
   "outputs": [
    {
     "name": "stdout",
     "output_type": "stream",
     "text": [
      "{1, 2, 3, 4, 5, 'world', 7, 9}\n",
      "<class 'set'>\n",
      "8\n",
      "<class 'set'>\n"
     ]
    }
   ],
   "source": [
    "collection={1,2,3,4,5,5, \"world\",9,\"world\",7} #it will ignore duplicates\n",
    "print(collection)\n",
    "print(type(collection))\n",
    "print(len(collection))# this will also ignore duplicates\n",
    "collection2=set()# empty set format\n",
    "print(type(collection2))\n"
   ]
  },
  {
   "cell_type": "markdown",
   "id": "fb8ff378",
   "metadata": {},
   "source": [
    "methods of sets"
   ]
  },
  {
   "cell_type": "code",
   "execution_count": null,
   "id": "6f594e0e",
   "metadata": {},
   "outputs": [
    {
     "name": "stdout",
     "output_type": "stream",
     "text": [
      "{3, 2, 4, 5, (1, 2, 3, 4)}\n",
      "{2, 4, 5, (1, 2, 3, 4)}\n",
      "{2, 4, 5, (1, 2, 3, 4)}\n",
      "4\n",
      "2\n",
      "{1, 2, 3, 4, 5, 'world', 7, 9, (1, 2, 3, 4)}\n",
      "{4, 5}\n"
     ]
    }
   ],
   "source": [
    "collection2.add(2)\n",
    "collection2.add(3)\n",
    "collection2.add(4)\n",
    "collection2.add(5)\n",
    "print(collection2)\n",
    "collection2.remove(3)\n",
    "print(collection2)\n",
    "collection2.add((1,2,3,4))# can add tupple but not list\n",
    "print(collection2)\n",
    "print(len(collection2))\n",
    "print(collection2.pop())# pop rnadom  item \n",
    "\n",
    "\n",
    "#  Special methods union and intersection \n",
    "print(collection2.union(collection)) # combine both sets value and return new total values without duplicates \n",
    "print(collection2.intersection(collection)) # combine both sets common value and return new total common values \n",
    "\n",
    "\n"
   ]
  },
  {
   "cell_type": "code",
   "execution_count": null,
   "id": "6deb97e3",
   "metadata": {},
   "outputs": [],
   "source": []
  }
 ],
 "metadata": {
  "kernelspec": {
   "display_name": "Python 3",
   "language": "python",
   "name": "python3"
  },
  "language_info": {
   "codemirror_mode": {
    "name": "ipython",
    "version": 3
   },
   "file_extension": ".py",
   "mimetype": "text/x-python",
   "name": "python",
   "nbconvert_exporter": "python",
   "pygments_lexer": "ipython3",
   "version": "3.13.0"
  }
 },
 "nbformat": 4,
 "nbformat_minor": 5
}
