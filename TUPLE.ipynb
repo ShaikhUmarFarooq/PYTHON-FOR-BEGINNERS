{
 "cells": [
  {
   "cell_type": "markdown",
   "id": "95663102",
   "metadata": {},
   "source": [
    "## TUPLE"
   ]
  },
  {
   "cell_type": "markdown",
   "id": "5d4bec1b",
   "metadata": {},
   "source": [
    " tuple is immutable = cant change value"
   ]
  },
  {
   "cell_type": "markdown",
   "id": "a2a19e32",
   "metadata": {},
   "source": [
    "we just want to use parenthesis () for making tuple"
   ]
  },
  {
   "cell_type": "code",
   "execution_count": 1,
   "id": "8824be99",
   "metadata": {},
   "outputs": [
    {
     "name": "stdout",
     "output_type": "stream",
     "text": [
      "<class 'tuple'>\n"
     ]
    }
   ],
   "source": [
    "tup=(1,23,45,7,8)\n",
    "print(type(tup))"
   ]
  },
  {
   "cell_type": "markdown",
   "id": "aceec283",
   "metadata": {},
   "source": [
    "we cannot chnge the value in tuple ERROR will show"
   ]
  },
  {
   "cell_type": "code",
   "execution_count": 2,
   "id": "e0d7362f",
   "metadata": {},
   "outputs": [
    {
     "ename": "TypeError",
     "evalue": "'tuple' object does not support item assignment",
     "output_type": "error",
     "traceback": [
      "\u001b[31m---------------------------------------------------------------------------\u001b[39m",
      "\u001b[31mTypeError\u001b[39m                                 Traceback (most recent call last)",
      "\u001b[36mCell\u001b[39m\u001b[36m \u001b[39m\u001b[32mIn[2]\u001b[39m\u001b[32m, line 1\u001b[39m\n\u001b[32m----> \u001b[39m\u001b[32m1\u001b[39m \u001b[43mtup\u001b[49m\u001b[43m[\u001b[49m\u001b[32;43m0\u001b[39;49m\u001b[43m]\u001b[49m=\u001b[32m1\u001b[39m\n",
      "\u001b[31mTypeError\u001b[39m: 'tuple' object does not support item assignment"
     ]
    }
   ],
   "source": [
    "tup[0]=1"
   ]
  },
  {
   "cell_type": "markdown",
   "id": "11d52fd6",
   "metadata": {},
   "source": [
    "we have to use coma (,)for tuple otherwise it will be consodered as int"
   ]
  },
  {
   "cell_type": "code",
   "execution_count": 10,
   "id": "f102fe6a",
   "metadata": {},
   "outputs": [
    {
     "name": "stdout",
     "output_type": "stream",
     "text": [
      "<class 'int'>\n",
      "<class 'tuple'>\n",
      "<class 'float'>\n"
     ]
    }
   ],
   "source": [
    "tup=(1)\n",
    "print(type(tup))\n",
    "tup=(1,)\n",
    "print(type(tup))\n",
    "tup=(1.0)\n",
    "print(type(tup))"
   ]
  },
  {
   "cell_type": "code",
   "execution_count": null,
   "id": "d312fa59",
   "metadata": {},
   "outputs": [
    {
     "name": "stdout",
     "output_type": "stream",
     "text": [
      "(1,)\n",
      "3\n",
      "2\n"
     ]
    }
   ],
   "source": [
    "tup4=(1,2,3,4,5,2)\n",
    "print(tup4[0:1])\n",
    "\n",
    "# searching element on which index it is\n",
    "print(tup4.index(4))\n",
    "\n",
    "# counting element 2 how many times is in tuple\n",
    "print(tup4.count(2))\n"
   ]
  },
  {
   "cell_type": "markdown",
   "id": "60584dcd",
   "metadata": {},
   "source": [
    "making simple code to ask fav movies and adding in list "
   ]
  },
  {
   "cell_type": "code",
   "execution_count": 5,
   "id": "03e5fb3d",
   "metadata": {},
   "outputs": [
    {
     "name": "stdout",
     "output_type": "stream",
     "text": [
      "fav movies are : ('pk', '3idiots', 'chichore')\n"
     ]
    }
   ],
   "source": [
    "mov1 = input(\"1st fav mov :\")\n",
    "mov2 = input(\"2nd fav mov :\")\n",
    "mov3 = input(\"3rd fav mov :\")\n",
    "list=(mov1,mov2,mov3)\n",
    "print(\"fav movies are :\",list)"
   ]
  },
  {
   "cell_type": "markdown",
   "id": "16691a41",
   "metadata": {},
   "source": [
    "Checking palindrome"
   ]
  },
  {
   "cell_type": "code",
   "execution_count": 21,
   "id": "ddff4c3a",
   "metadata": {},
   "outputs": [
    {
     "name": "stdout",
     "output_type": "stream",
     "text": [
      "palindrome\n",
      "Not Palindrome\n"
     ]
    }
   ],
   "source": [
    "list=[1,2,3,2,1]\n",
    "list2=list.copy()\n",
    "list2.reverse()\n",
    "if(list== list2):\n",
    "    print(\"palindrome\")\n",
    "else:\n",
    "    print(\"not palindrome\")\n",
    "\n",
    "    #  with another list\n",
    "\n",
    "\n",
    "list=[1,2,3,2,4]\n",
    "list2=list.copy()\n",
    "list2.reverse()\n",
    "if(list== list2):\n",
    "    print(\"Palindrome\")\n",
    "else:\n",
    "    print(\"Not Palindrome\")"
   ]
  }
 ],
 "metadata": {
  "kernelspec": {
   "display_name": "Python 3",
   "language": "python",
   "name": "python3"
  },
  "language_info": {
   "codemirror_mode": {
    "name": "ipython",
    "version": 3
   },
   "file_extension": ".py",
   "mimetype": "text/x-python",
   "name": "python",
   "nbconvert_exporter": "python",
   "pygments_lexer": "ipython3",
   "version": "3.13.0"
  }
 },
 "nbformat": 4,
 "nbformat_minor": 5
}
